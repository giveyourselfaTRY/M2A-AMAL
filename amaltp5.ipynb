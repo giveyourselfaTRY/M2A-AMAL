{
 "cells": [
  {
   "cell_type": "code",
   "execution_count": 1,
   "metadata": {},
   "outputs": [],
   "source": [
    "import numpy as np\n",
    "import torch\n",
    "import torch.nn as nn\n",
    "import matplotlib.pyplot as plt\n",
    "def get_device():\n",
    "    device = torch.device(\"cuda\" if torch.cuda.is_available() else \"cpu\")\n",
    "    print(device)   \n",
    "    return device\n",
    "\n",
    "def save_trained_model(model, filename):\n",
    "    \"\"\"\n",
    "    保存训练好的模型到与ipynb文件相同路径下。\n",
    "    \n",
    "    参数：\n",
    "    model (torch.nn.Module): 训练好的模型\n",
    "    filename (str): 希望保存的文件名，包含后缀名（例如：'model.pth'）\n",
    "    \"\"\"\n",
    "    # 将模型保存到指定路径\n",
    "    torch.save(model.state_dict(), filename)\n",
    "    print(f\"模型已成功保存到 {filename}\")\n",
    "    \n",
    "def load_trained_model(model_class, filename):\n",
    "    \"\"\"\n",
    "    根据文件名读取模型并加载到内存中。\n",
    "    \n",
    "    参数：\n",
    "    model_class (type): 模型的类，用于实例化一个模型对象\n",
    "    filename (str): 保存的模型文件名，包含后缀名（例如：'model.pth'）\n",
    "    \n",
    "    返回：\n",
    "    model (torch.nn.Module): 加载了权重的模型\n",
    "    \"\"\"\n",
    "    # 实例化模型对象\n",
    "    model = model_class()\n",
    "    # 加载模型权重\n",
    "    model.load_state_dict(torch.load(filename))\n",
    "    print(f\"模型已成功从 {filename} 加载\")\n",
    "    return model\n"
   ]
  },
  {
   "cell_type": "markdown",
   "metadata": {},
   "source": [
    "# tagging origin"
   ]
  },
  {
   "cell_type": "code",
   "execution_count": 2,
   "metadata": {},
   "outputs": [
    {
     "name": "stderr",
     "output_type": "stream",
     "text": [
      "INFO:root:Loading datasets...\n"
     ]
    },
    {
     "name": "stdout",
     "output_type": "stream",
     "text": [
      "fr_gsd-ud-train.conllu-done\n",
      "fr_gsd-ud-dev.conllu-done\n",
      "fr_gsd-ud-test.conllu-done\n"
     ]
    },
    {
     "name": "stderr",
     "output_type": "stream",
     "text": [
      "INFO:root:Vocabulary size: 44939\n"
     ]
    }
   ],
   "source": [
    "import itertools\n",
    "import logging\n",
    "from tqdm import tqdm\n",
    "\n",
    "from torch.utils.data import Dataset, DataLoader\n",
    "from torch.nn.utils.rnn import pad_sequence\n",
    "import torch.nn as nn\n",
    "import torch.optim as optim\n",
    "from torch.utils.tensorboard import SummaryWriter\n",
    "import torch\n",
    "from typing import List\n",
    "import time\n",
    "from conllu import parse\n",
    "logging.basicConfig(level=logging.INFO)\n",
    "\n",
    "DATA_PATH = \"../data/\"\n",
    "\n",
    "\n",
    "# Format de sortie décrit dans\n",
    "# https://pypi.org/project/conllu/\n",
    "\n",
    "class Vocabulary:\n",
    "    \"\"\"Permet de gérer un vocabulaire.\n",
    "\n",
    "    En test, il est possible qu'un mot ne soit pas dans le\n",
    "    vocabulaire : dans ce cas le token \"__OOV__\" est utilisé.\n",
    "    Attention : il faut tenir compte de cela lors de l'apprentissage !\n",
    "\n",
    "    Utilisation:\n",
    "\n",
    "    - en train, utiliser v.get(\"blah\", adding=True) pour que le mot soit ajouté\n",
    "      automatiquement s'il n'est pas connu\n",
    "    - en test, utiliser v[\"blah\"] pour récupérer l'ID du mot (ou l'ID de OOV)\n",
    "    \"\"\"\n",
    "    OOVID = 1\n",
    "    PAD = 0\n",
    "\n",
    "    def __init__(self, oov: bool):\n",
    "        \"\"\" oov : autorise ou non les mots OOV \"\"\"\n",
    "        self.oov =  oov\n",
    "        self.id2word = [ \"PAD\"]\n",
    "        self.word2id = { \"PAD\" : Vocabulary.PAD}\n",
    "        if oov:\n",
    "            self.word2id[\"__OOV__\"] = Vocabulary.OOVID\n",
    "            self.id2word.append(\"__OOV__\")\n",
    "\n",
    "    def __getitem__(self, word: str):\n",
    "        if self.oov:\n",
    "            return self.word2id.get(word, Vocabulary.OOVID)\n",
    "        return self.word2id[word]\n",
    "\n",
    "    def get(self, word: str, adding=True):\n",
    "        try:\n",
    "            return self.word2id[word]\n",
    "        except KeyError:\n",
    "            if adding:\n",
    "                wordid = len(self.id2word)\n",
    "                self.word2id[word] = wordid\n",
    "                self.id2word.append(word)\n",
    "                return wordid\n",
    "            if self.oov:\n",
    "                return Vocabulary.OOVID\n",
    "            raise\n",
    "\n",
    "    def __len__(self):\n",
    "        return len(self.id2word)\n",
    "\n",
    "    def getword(self,idx: int):\n",
    "        if idx < len(self):\n",
    "            return self.id2word[idx]\n",
    "        return None\n",
    "\n",
    "    def getwords(self,idx: List[int]):\n",
    "        return [self.getword(i) for i in idx]\n",
    "\n",
    "\n",
    "\n",
    "class TaggingDataset():\n",
    "    def __init__(self, data, words: Vocabulary, tags: Vocabulary, adding=True):\n",
    "        self.sentences = []\n",
    "\n",
    "        for s in data:\n",
    "            self.sentences.append(([words.get(token[\"form\"], adding) for token in s], [tags.get(token[\"upostag\"], adding) for token in s]))\n",
    "    def __len__(self):\n",
    "        return len(self.sentences)\n",
    "    def __getitem__(self, ix):\n",
    "        return self.sentences[ix]\n",
    "\n",
    "\n",
    "def collate_fn(batch):\n",
    "    \"\"\"Collate using pad_sequence\"\"\"\n",
    "    return tuple(pad_sequence([torch.LongTensor(b[j]) for b in batch]) for j in range(2))\n",
    "\n",
    "\n",
    "logging.info(\"Loading datasets...\")\n",
    "words = Vocabulary(True)\n",
    "tags = Vocabulary(False)\n",
    "\n",
    "#data_file = open(DATA_PATH+\"fr_gsd-ud-train.conllu\")\n",
    "data_file = open(DATA_PATH+\"fr_gsd-ud-train.conllu\", encoding='utf-8')\n",
    "raw_train = [parse(x)[0] for x in data_file if len(x)>1]\n",
    "print('fr_gsd-ud-train.conllu-done')\n",
    "data_file = open(DATA_PATH+\"fr_gsd-ud-dev.conllu\", encoding='utf-8')\n",
    "raw_dev = [parse(x)[0] for x in data_file if len(x)>1]\n",
    "print('fr_gsd-ud-dev.conllu-done')\n",
    "data_file = open(DATA_PATH+\"fr_gsd-ud-test.conllu\", encoding='utf-8')\n",
    "raw_test = [parse(x)[0] for x in data_file if len(x)>1]\n",
    "print('fr_gsd-ud-test.conllu-done')\n",
    "train_data = TaggingDataset(raw_train, words, tags, True)\n",
    "dev_data = TaggingDataset(raw_dev, words, tags, True)\n",
    "test_data = TaggingDataset(raw_test, words, tags, False)\n",
    "\n",
    "\n",
    "logging.info(\"Vocabulary size: %d\", len(words))\n",
    "\n",
    "\n",
    "BATCH_SIZE=100\n",
    "\n",
    "train_loader = DataLoader(train_data, collate_fn=collate_fn, batch_size=BATCH_SIZE, shuffle=True)\n",
    "dev_loader = DataLoader(dev_data, collate_fn=collate_fn, batch_size=BATCH_SIZE)\n",
    "test_loader = DataLoader(test_data, collate_fn=collate_fn, batch_size=BATCH_SIZE)\n",
    "#大概要15秒#在加载数据的时候已经使用了padding，运算的时候输入的是延长过的\n",
    "#  TODO:  Implémenter le modèle et la boucle d'apprentissage (en utilisant les LSTMs de pytorch)\n"
   ]
  },
  {
   "cell_type": "markdown",
   "metadata": {},
   "source": [
    "数据测试"
   ]
  },
  {
   "cell_type": "code",
   "execution_count": 3,
   "metadata": {},
   "outputs": [
    {
     "name": "stdout",
     "output_type": "stream",
     "text": [
      "torch.Size([1, 100]) torch.Size([1, 100])\n",
      "tensor(40950) tensor(16)\n",
      "tensor(40950)\n",
      "tensor(16)\n"
     ]
    }
   ],
   "source": [
    "max_x=[];max_y=[]\n",
    "for x, y in train_loader:\n",
    "    print(x.size(), y.size())\n",
    "    print(x.max(), y.max())\n",
    "    max_x.append(x.max())\n",
    "    max_y.append(y.max())\n",
    "    #token_visible=[tags.getword(i) for i in y]\n",
    "    #print(token_visible)\n",
    "    break    \n",
    "print(max(max_x))\n",
    "print(max(max_y))\n",
    "# tensor(42343)\n",
    "# tensor(17）\n",
    "#predicted_tag_names = [tags.getword(tag) for tag in predicted_tags]"
   ]
  },
  {
   "cell_type": "code",
   "execution_count": 4,
   "metadata": {},
   "outputs": [
    {
     "name": "stdout",
     "output_type": "stream",
     "text": [
      "Tokens Shape: torch.Size([1, 100])\n",
      "Tags Shape: torch.Size([1, 100])\n"
     ]
    },
    {
     "ename": "NameError",
     "evalue": "name 'model' is not defined",
     "output_type": "error",
     "traceback": [
      "\u001b[1;31m---------------------------------------------------------------------------\u001b[0m",
      "\u001b[1;31mNameError\u001b[0m                                 Traceback (most recent call last)",
      "Cell \u001b[1;32mIn[4], line 10\u001b[0m\n\u001b[0;32m      5\u001b[0m \u001b[38;5;28mprint\u001b[39m(\u001b[38;5;124m\"\u001b[39m\u001b[38;5;124mTags Shape:\u001b[39m\u001b[38;5;124m\"\u001b[39m, tags\u001b[38;5;241m.\u001b[39mshape)      \u001b[38;5;66;03m# 应该是 (batch_size, seq_length)\u001b[39;00m\n\u001b[0;32m      7\u001b[0m \u001b[38;5;66;03m# 获取批次长度（假设 tokens 是填充的张量，获取每个序列的实际长度）\u001b[39;00m\n\u001b[0;32m      8\u001b[0m \u001b[38;5;66;03m#lengths = (tokens != 0).sum(dim=1)  # 计算每个序列的实际长度，忽略填充值 0\u001b[39;00m\n\u001b[0;32m      9\u001b[0m \u001b[38;5;66;03m# 使用模型进行前向传播\u001b[39;00m\n\u001b[1;32m---> 10\u001b[0m \u001b[43mmodel\u001b[49m\u001b[38;5;241m.\u001b[39meval()  \u001b[38;5;66;03m# 设置模型为评估模式\u001b[39;00m\n\u001b[0;32m     11\u001b[0m \u001b[38;5;28;01mwith\u001b[39;00m torch\u001b[38;5;241m.\u001b[39mno_grad():  \u001b[38;5;66;03m# 前向传播不需要计算梯度\u001b[39;00m\n\u001b[0;32m     12\u001b[0m     tag_scores \u001b[38;5;241m=\u001b[39m model(tokens)  \u001b[38;5;66;03m# 预测标签\u001b[39;00m\n",
      "\u001b[1;31mNameError\u001b[0m: name 'model' is not defined"
     ]
    }
   ],
   "source": [
    "# 选择一个批次进行测试\n",
    "for tokens, tags in train_loader:\n",
    "    # 打印批次的基本信息\n",
    "    print(\"Tokens Shape:\", tokens.shape)  # 应该是 (batch_size, seq_length)\n",
    "    print(\"Tags Shape:\", tags.shape)      # 应该是 (batch_size, seq_length)\n",
    "    \n",
    "    # 获取批次长度（假设 tokens 是填充的张量，获取每个序列的实际长度）\n",
    "    #lengths = (tokens != 0).sum(dim=1)  # 计算每个序列的实际长度，忽略填充值 0\n",
    "    # 使用模型进行前向传播\n",
    "    model.eval()  # 设置模型为评估模式\n",
    "    with torch.no_grad():  # 前向传播不需要计算梯度\n",
    "        tag_scores = model(tokens)  # 预测标签\n",
    "        \n",
    "    # 打印预测结果\n",
    "    print(\"Tag Scores Shape:\", tag_scores.shape)  # 输出应为 (batch_size, seq_length, tagset_size)\n",
    "    print(\"Sample Tag Scores (First Sequence):\", tag_scores[0])  # 打印第一个样本的预测结果\n",
    "\n",
    "    # 测试完成后直接跳出循环\n",
    "    break\n"
   ]
  },
  {
   "cell_type": "markdown",
   "metadata": {},
   "source": [
    "# question 1  \n",
    "序列到序列（seq2seq） 模型，用于词性标注（POS Tagging）任务。   \n",
    "处理未登录词（OOV），并对模型的结果进行可视化 \n",
    "// \n",
    "实现 LSTM 模型和训练循环，并使用填充技术来处理不同长度的输入。\n",
    "实现未登录词替换机制，用于增强模型在测试时的泛化能力。\n",
    "可视化模型的标注结果，即为输入句子输出相应的词性标签。\n",
    "//"
   ]
  },
  {
   "cell_type": "code",
   "execution_count": 4,
   "metadata": {},
   "outputs": [
    {
     "name": "stdout",
     "output_type": "stream",
     "text": [
      "cuda\n"
     ]
    },
    {
     "data": {
      "text/plain": [
       "CrossEntropyLoss()"
      ]
     },
     "execution_count": 4,
     "metadata": {},
     "output_type": "execute_result"
    }
   ],
   "source": [
    "import torch\n",
    "import torch.nn as nn\n",
    "import torch.optim as optim\n",
    "from torch.utils.data import DataLoader\n",
    "from torch.nn.utils.rnn import pad_sequence, pack_padded_sequence, pad_packed_sequence\n",
    "#pack_padded_sequence:已经填充的序列（padded sequence）-->紧凑表示的 打包序列（PackedSequence），\n",
    "# 这样在递归神经网络中只计算有效的部分，而不会浪费计算在填充的部分上。\n",
    "\n",
    "# pad_packed_sequence:打包序列（PackedSequence） -->恢复为原来的填充形式（padded sequence），\n",
    "# 即还原为一个具有相同长度的批次张量，方便后续处理。\n",
    "#适用场景：在递归神经网络处理后，得到的输出通常是 PackedSequence 类型。\n",
    "# 为了后续的全连接层或其他处理步骤，可将其还原为填充的张量，这时候就用到 pad_packed_sequence。\n",
    "\n",
    "\n",
    "# 模型定义\n",
    "class POSTagger(nn.Module):#这里embedding的传入维度到底得是多少啊？\n",
    "    #dic好像是42343\n",
    "    def __init__(self, dictionary_size, tagset_size, embedding_dim, hidden_dim):\n",
    "        super(POSTagger, self).__init__()\n",
    "        self.embedding = nn.Embedding(dictionary_size+1, embedding_dim)\n",
    "        self.lstm = nn.LSTM(embedding_dim, hidden_dim, batch_first=True)# 批次大小（batch_size） 是第一个维度。\n",
    "        #（batch_size,sequence_length,feature_dimension）\n",
    "        self.fc = nn.Linear(hidden_dim, tagset_size+1)\n",
    "\n",
    "    def forward(self, x, lengths):\n",
    "        embedded = self.embedding(x)\n",
    "        packed_input = nn.utils.rnn.pack_padded_sequence(embedded, lengths, batch_first=True, enforce_sorted=False)\n",
    "        packed_output, (hn, cn) = self.lstm(packed_input)\n",
    "        # output：LSTM 所有时间步的输出。\n",
    "        # (h_n, c_n)：LSTM 的最终隐藏状态和细胞状态。这俩是\n",
    "        # 元组，每个都是(num_layers * num_directions, batch, hidden_size)\n",
    "        output, _ = nn.utils.rnn.pad_packed_sequence(packed_output, batch_first=True)\n",
    "        logits = self.fc(output)\n",
    "        return logits\n",
    "    \n",
    "# OOV 处理：随机替换训练数据中的一些词为 [OOV]\n",
    "def add_oov_tokens(dataset, oov_token_id, oov_probability=0.1):\n",
    "    for tokens, tags in dataset:\n",
    "        for i in range(len(tokens)):\n",
    "            if torch.rand(1).item() < oov_probability:\n",
    "                tokens[i] = oov_token_id\n",
    "\n",
    "# 模型训练\n",
    "from tqdm import tqdm\n",
    "def train_model(model, train_loader, criterion, optimizer,device, num_epochs=5):\n",
    "    model.to(device)\n",
    "    model.train()\n",
    "    for epoch in range(num_epochs):\n",
    "        time_epoch=0\n",
    "        for tokens, tags in tqdm(train_loader):\n",
    "            tokens = tokens.to(device)\n",
    "            tags = tags.to(device)\n",
    "            time_epoch+=1\n",
    "            lengths = [len(s) for s in tokens] \n",
    "            #print(tokens.size(), tags.size())\n",
    "            #both 1*100\n",
    "            optimizer.zero_grad()\n",
    "            tag_scores = model(tokens,lengths)# 1*100*17\n",
    "            #tag_scores_ = tag_scores.view(-1, tag_scores.shape[-1])\n",
    "            tag_scores_ = tag_scores.squeeze(0)\n",
    "            #tags_1 = tags.view(-1)#100*17            \n",
    "            try:\n",
    "                loss = criterion(tag_scores_, tags.squeeze(0))\n",
    "            except:\n",
    "                print(tags.squeeze(0).size(),tags.squeeze(0).max())\n",
    "            loss.backward()\n",
    "            optimizer.step()\n",
    "            #print(time_epoch)\n",
    "        print(f'Epoch {epoch+1}/{num_epochs}, Loss: {loss.item()}')\n",
    "    return model\n",
    "\n",
    "# 示例使用\n",
    "vocab_size = 42343  # 假设词汇表大小\n",
    "tagset_size = 17 # 假设有10种不同的词性标签\n",
    "embedding_dim = 128\n",
    "hidden_dim = 128\n",
    "\n",
    "model = POSTagger(vocab_size, tagset_size, embedding_dim, hidden_dim)\n",
    "#criterion = nn.CrossEntropyLoss(ignore_index=-1)\n",
    "criterion = nn.CrossEntropyLoss(ignore_index=Vocabulary.PAD)\n",
    "\n",
    "optimizer = optim.Adam(model.parameters())\n",
    "import os\n",
    "os.environ[\"CUDA_LAUNCH_BLOCKING\"] = \"1\"\n",
    "device = torch.device(\"cuda\" if torch.cuda.is_available() else \"cpu\")\n",
    "print(device)\n",
    "#device='cpu'\n",
    "model.to(device)\n",
    "criterion.to(device)"
   ]
  },
  {
   "cell_type": "code",
   "execution_count": 5,
   "metadata": {},
   "outputs": [
    {
     "name": "stderr",
     "output_type": "stream",
     "text": [
      "100%|██████████| 3932/3932 [01:26<00:00, 45.28it/s]\n"
     ]
    },
    {
     "name": "stdout",
     "output_type": "stream",
     "text": [
      "Epoch 1/10, Loss: 0.3983815312385559\n"
     ]
    },
    {
     "name": "stderr",
     "output_type": "stream",
     "text": [
      "100%|██████████| 3932/3932 [01:54<00:00, 34.30it/s]\n"
     ]
    },
    {
     "name": "stdout",
     "output_type": "stream",
     "text": [
      "Epoch 2/10, Loss: 0.29941675066947937\n"
     ]
    },
    {
     "name": "stderr",
     "output_type": "stream",
     "text": [
      "100%|██████████| 3932/3932 [02:00<00:00, 32.70it/s]\n"
     ]
    },
    {
     "name": "stdout",
     "output_type": "stream",
     "text": [
      "Epoch 3/10, Loss: 0.30631986260414124\n"
     ]
    },
    {
     "name": "stderr",
     "output_type": "stream",
     "text": [
      "100%|██████████| 3932/3932 [02:01<00:00, 32.44it/s]\n"
     ]
    },
    {
     "name": "stdout",
     "output_type": "stream",
     "text": [
      "Epoch 4/10, Loss: 0.13289403915405273\n"
     ]
    },
    {
     "name": "stderr",
     "output_type": "stream",
     "text": [
      "100%|██████████| 3932/3932 [02:01<00:00, 32.41it/s]\n"
     ]
    },
    {
     "name": "stdout",
     "output_type": "stream",
     "text": [
      "Epoch 5/10, Loss: 0.1647188514471054\n"
     ]
    },
    {
     "name": "stderr",
     "output_type": "stream",
     "text": [
      "100%|██████████| 3932/3932 [01:28<00:00, 44.53it/s]\n"
     ]
    },
    {
     "name": "stdout",
     "output_type": "stream",
     "text": [
      "Epoch 6/10, Loss: 0.19916103780269623\n"
     ]
    },
    {
     "name": "stderr",
     "output_type": "stream",
     "text": [
      "100%|██████████| 3932/3932 [01:24<00:00, 46.62it/s]\n"
     ]
    },
    {
     "name": "stdout",
     "output_type": "stream",
     "text": [
      "Epoch 7/10, Loss: 0.07554765045642853\n"
     ]
    },
    {
     "name": "stderr",
     "output_type": "stream",
     "text": [
      "100%|██████████| 3932/3932 [01:46<00:00, 36.91it/s]\n"
     ]
    },
    {
     "name": "stdout",
     "output_type": "stream",
     "text": [
      "Epoch 8/10, Loss: 0.07914081960916519\n"
     ]
    },
    {
     "name": "stderr",
     "output_type": "stream",
     "text": [
      "100%|██████████| 3932/3932 [01:45<00:00, 37.31it/s]\n"
     ]
    },
    {
     "name": "stdout",
     "output_type": "stream",
     "text": [
      "Epoch 9/10, Loss: 0.16812053322792053\n"
     ]
    },
    {
     "name": "stderr",
     "output_type": "stream",
     "text": [
      "100%|██████████| 3932/3932 [01:48<00:00, 36.24it/s]"
     ]
    },
    {
     "name": "stdout",
     "output_type": "stream",
     "text": [
      "Epoch 10/10, Loss: 0.10522463917732239\n"
     ]
    },
    {
     "name": "stderr",
     "output_type": "stream",
     "text": [
      "\n"
     ]
    }
   ],
   "source": [
    "#训练\n",
    "model=train_model(model, train_loader, criterion, optimizer,device,num_epochs=10)"
   ]
  },
  {
   "cell_type": "markdown",
   "metadata": {},
   "source": [
    "word测试"
   ]
  },
  {
   "cell_type": "code",
   "execution_count": 20,
   "metadata": {},
   "outputs": [
    {
     "name": "stdout",
     "output_type": "stream",
     "text": [
      "Basic mapping test passed.\n",
      "OOV handling test passed.\n",
      "Vocabulary extension test passed.\n",
      "Index to word mapping test passed.\n",
      "Failed to raise KeyError for non-existing word.\n",
      "Boundary case test passed.\n",
      "All tests passed.\n"
     ]
    }
   ],
   "source": [
    "def test_vocabulary():\n",
    "    # 创建一个允许 OOV 处理的词汇表\n",
    "    words = Vocabulary(oov=True)\n",
    "    \n",
    "    # 1. 测试基本映射功能\n",
    "    assert words.get(\"hello\") == 2, \"Failed to add 'hello' correctly to vocabulary\"\n",
    "    assert words.get(\"world\") == 3, \"Failed to add 'world' correctly to vocabulary\"\n",
    "    assert words.get(\"hello\") == 2, \"'hello' should have consistent index\"\n",
    "\n",
    "    print(\"Basic mapping test passed.\")\n",
    "\n",
    "    # 2. 测试 OOV 处理\n",
    "    oov_id = words[\"__OOV__\"]\n",
    "    assert words[\"unknown_word\"] == oov_id, \"Failed to map unknown word to OOV\"\n",
    "    \n",
    "    print(\"OOV handling test passed.\")\n",
    "\n",
    "    # 3. 测试词汇表扩展功能\n",
    "    new_word_id = words.get(\"new_word\", adding=True)\n",
    "    assert new_word_id == 4, \"Failed to add 'new_word' correctly to vocabulary\"\n",
    "    assert words.get(\"new_word\") == new_word_id, \"'new_word' should have consistent index\"\n",
    "\n",
    "    print(\"Vocabulary extension test passed.\")\n",
    "\n",
    "    # 4. 测试索引到单词的映射\n",
    "    assert words.getword(2) == \"hello\", \"Failed to retrieve word by index for 'hello'\"\n",
    "    assert words.getword(1) == \"__OOV__\", \"Failed to retrieve OOV by index\"\n",
    "    assert words.getword(0) == \"PAD\", \"Failed to retrieve PAD by index\"\n",
    "\n",
    "    print(\"Index to word mapping test passed.\")\n",
    "\n",
    "    # 5. 测试边界情况\n",
    "    # 重复添加单词\n",
    "    assert words.get(\"hello\") == 2, \"'hello' should remain consistent after repeated addition\"\n",
    "    \n",
    "    # 查询不存在且未启用添加的新单词\n",
    "    try:\n",
    "        words.get(\"not_in_vocab\", adding=False)\n",
    "    except KeyError:\n",
    "        print(\"Correctly raised KeyError for non-existing word when adding=False.\")\n",
    "    else:\n",
    "        print(\"Failed to raise KeyError for non-existing word.\")\n",
    "\n",
    "    print(\"Boundary case test passed.\")\n",
    "\n",
    "    print(\"All tests passed.\")\n",
    "\n",
    "# 运行测试函数\n",
    "test_vocabulary()\n"
   ]
  },
  {
   "cell_type": "code",
   "execution_count": 11,
   "metadata": {},
   "outputs": [
    {
     "name": "stdout",
     "output_type": "stream",
     "text": [
      "Input Sentence: i have a pen\n",
      "Predicted Tags (Indices): [16, 12, 4, 12]\n",
      "Predicted Tags (Names): ['X', 'PROPN', 'AUX', 'PROPN']\n"
     ]
    }
   ],
   "source": [
    "# 假设已经训练好的模型对象为 model\n",
    "# 词汇表对象为 words\n",
    "# 输入示例句子为 sample_sentence\n",
    "\n",
    "# 可视化模型结果\n",
    "import copy\n",
    "def visualize_predictions(model, sample_sentence, vocab, tags):\n",
    "    model = copy.deepcopy(model).to('cpu')  \n",
    "    model.eval()\n",
    "    with torch.no_grad():\n",
    "        tokens = []\n",
    "        for word in sample_sentence.split():\n",
    "            try:\n",
    "                # 使用 vocab.get(word, adding=False) 来获取索引\n",
    "                token_id = vocab.get(word, adding=False)\n",
    "            except KeyError:\n",
    "                # 打印提示信息，但继续进行预测，处理未登录词\n",
    "                print(f\"Warning: Word '{word}' not found in vocabulary and adding is not allowed.\")\n",
    "                token_id = Vocabulary.OOVID\n",
    "            tokens.append(token_id)\n",
    "\n",
    "        # 将 tokens 列表转换为张量，并移动到指定设备上\n",
    "        tokens_tensor = torch.tensor(tokens).unsqueeze(0).to('cpu')    # 添加批次维度，形状为 (1, seq_length)\n",
    "\n",
    "        # 获取输入序列的长度，并确保它在 CPU 上\n",
    "        lengths = torch.tensor([len(tokens)], dtype=torch.int64).cpu()\n",
    "\n",
    "        # 使用模型进行前向传播预测标签\n",
    "        tag_scores = model(tokens_tensor.to('cpu')  , lengths)\n",
    "\n",
    "        # 获取每个时间步上得分最高的标签索引\n",
    "        _, predicted_tags = torch.max(tag_scores, dim=2)\n",
    "        predicted_tags = predicted_tags.squeeze().tolist()\n",
    "\n",
    "        # 将预测的标签索引转换为对应的标签名称\n",
    "        predicted_tag_names = [tags.getword(tag) for tag in predicted_tags]\n",
    "\n",
    "        # 打印输入句子和对应的预测标签\n",
    "        print(\"Input Sentence:\", sample_sentence)\n",
    "        print(\"Predicted Tags (Indices):\", predicted_tags)\n",
    "        print(\"Predicted Tags (Names):\", predicted_tag_names)\n",
    "\n",
    "sample_sentence = \"i have a pen\"\n",
    "# 调用 visualize_predictions 函数\n",
    "visualize_predictions(model, sample_sentence, words,tags)\n"
   ]
  },
  {
   "cell_type": "code",
   "execution_count": 12,
   "metadata": {},
   "outputs": [
    {
     "name": "stdout",
     "output_type": "stream",
     "text": [
      "Index: 0, Tag: PAD\n",
      "Index: 1, Tag: DET\n",
      "Index: 2, Tag: NOUN\n",
      "Index: 3, Tag: ADJ\n",
      "Index: 4, Tag: AUX\n",
      "Index: 5, Tag: VERB\n",
      "Index: 6, Tag: ADV\n",
      "Index: 7, Tag: ADP\n",
      "Index: 8, Tag: SCONJ\n",
      "Index: 9, Tag: PRON\n",
      "Index: 10, Tag: PUNCT\n",
      "Index: 11, Tag: _\n",
      "Index: 12, Tag: PROPN\n",
      "Index: 13, Tag: CCONJ\n",
      "Index: 14, Tag: NUM\n",
      "Index: 15, Tag: SYM\n",
      "Index: 16, Tag: X\n",
      "Index: 17, Tag: INTJ\n"
     ]
    }
   ],
   "source": [
    "for idx in range(len(tags)):\n",
    "    print(f\"Index: {idx}, Tag: {tags.getword(idx)}\")\n"
   ]
  },
  {
   "attachments": {
    "image.png": {
     "image/png": "[encoded data removed]"
    }
   },
   "cell_type": "markdown",
   "metadata": {},
   "source": [
    "截图![image.png](attachment:image.png)"
   ]
  },
  {
   "cell_type": "markdown",
   "metadata": {},
   "source": [
    "# question2  \n",
    "用tp5 traduction  \n",
    "编码：embedding+GRU  \n",
    "解码：embedding+GRU+linear+softmax   \n",
    "在解码器中，需要实现一个 generate(hidden, lenseq=None) 方法，  \n",
    "输入为隐状态 hidden（以及开始 token SOS），用于生成目标句子，直到达到给定长度 lenseq 或遇到结束 token EOS。  \n"
   ]
  },
  {
   "cell_type": "markdown",
   "metadata": {},
   "source": [
    "## traduction.py"
   ]
  },
  {
   "cell_type": "markdown",
   "metadata": {},
   "source": [
    "包的导入与SummaryWriter"
   ]
  },
  {
   "cell_type": "code",
   "execution_count": 2,
   "metadata": {},
   "outputs": [],
   "source": [
    "import logging\n",
    "from torch.utils.data import Dataset, DataLoader\n",
    "from torch.nn.utils.rnn import pad_sequence\n",
    "import torch.nn as nn\n",
    "import torch.optim as optim\n",
    "from torch.utils.tensorboard import SummaryWriter\n",
    "import torch\n",
    "import unicodedata\n",
    "import string\n",
    "from tqdm import tqdm\n",
    "from pathlib import Path\n",
    "from typing import List\n",
    "import time\n",
    "import re\n",
    "from torch.utils.tensorboard import SummaryWriter\n",
    "import os\n",
    "\n",
    "# 格式化时间并替换不合法的字符\n",
    "timestamp = time.strftime(\"%Y-%m-%d_%H-%M-%S\")  # 格式为 \"2024-10-22_21-32-34\"\n",
    "log_dir = f\"/tmp/runs/tag-{timestamp}\""
   ]
  },
  {
   "cell_type": "markdown",
   "metadata": {},
   "source": [
    "logging的解释  \n",
    "logging 模块提供了记录日志的功能，可以用来捕捉程序的状态、错误、警告以及调试信息。  \n",
    "相比于print()，它更灵活，尤其在大型应用程序中，可以方便地记录、过滤和分类日志信息。  \n",
    "\n",
    "1、分级：\n",
    "DEBUG：最低级别，详细的信息，通常只在诊断问题时使用。  \n",
    "INFO：一般的信息，表示程序正常运行的状态。  \n",
    "WARNING：警告信息，表明有些问题，但并不影响程序的正常运行。  \n",
    "ERROR：错误信息，表明发生了较严重的问题，程序的一部分功能可能无法继续执行。  \n",
    "CRITICAL：最严重的错误，表明程序遇到严重的错误，可能需要立即处理。   \n",
    "\n",
    "2、logging.basicConfig() 函数的作用   \n",
    "配置日志记录的基本设置：basicConfig() 函数用于设置日志记录的基本配置，比如日志级别、日志格式、输出文件等。  \n",
    "level=logging.INFO：这个参数指定了日志的级别为 INFO。这意味着：  \n",
    "只会记录 INFO 及更高级别（即 INFO, WARNING, ERROR, CRITICAL）的日志信息。  \n",
    "DEBUG 级别的信息将不会被记录，因为它的优先级低于 INFO。  \n",
    "\n",
    "示例：\n",
    "logging.basicConfig(level=logging.INFO)\n",
    "\n",
    "#记录不同级别的日志\n",
    "logging.debug(\"This is a debug message\")  # 这个消息不会被记录，因为级别低于 INFO\n",
    "logging.info(\"This is an info message\")   # 这个消息会被记录\n",
    "logging.warning(\"This is a warning message\")  # 这个消息会被记录\n",
    "logging.error(\"This is an error message\")  # 这个消息会被记录\n",
    "logging.critical(\"This is a critical message\")  # 这个消息会被记录\n",
    "\n"
   ]
  },
  {
   "cell_type": "code",
   "execution_count": 4,
   "metadata": {},
   "outputs": [],
   "source": [
    "logging.basicConfig(level=logging.INFO)\n",
    "#logging.basicConfig(level=logging.INFO, filename='app.log', filemode='w', format='%(name)s - %(levelname)s - %(message)s')"
   ]
  },
  {
   "cell_type": "markdown",
   "metadata": {},
   "source": [
    "单词类 & 正规化函数  \n",
    "单词类可以说完全是一个空白单词表，加入新的词汇需要将语料预先处理成单个的词语输入"
   ]
  },
  {
   "cell_type": "code",
   "execution_count": 5,
   "metadata": {},
   "outputs": [],
   "source": [
    "def normalize(s):\n",
    "    return re.sub(' +',' ', \"\".join(c if c in string.ascii_letters else \" \" #将字符串 s 转为小写，并移除字符串两端的空白字符。\n",
    "         for c in unicodedata.normalize('NFD', s.lower().strip())\n",
    "         if  c in string.ascii_letters+\" \"+string.punctuation)).strip()\n",
    "#如果 c 是 ASCII 字母（A-Z, a-z），则保留原字符，否则用空格代替。\n",
    "\n",
    "\n",
    "class Vocabulary:\n",
    "    \"\"\"Permet de gérer un vocabulaire.\n",
    "    生成单词\n",
    "\n",
    "    En test, il est possible qu'un mot ne soit pas dans le\n",
    "    vocabulaire : dans ce cas le token \"__OOV__\" est utilisé.\n",
    "    Attention : il faut tenir compte de cela lors de l'apprentissage !\n",
    "\n",
    "    Utilisation:\n",
    "\n",
    "    - en train, utiliser v.get(\"blah\", adding=True) pour que le mot soit ajouté\n",
    "      automatiquement\n",
    "    - en test, utiliser v[\"blah\"] pour récupérer l'ID du mot (ou l'ID de OOV)\n",
    "    \"\"\"\n",
    "    PAD = 0\n",
    "    EOS = 1\n",
    "    SOS = 2\n",
    "    OOVID = 3\n",
    "\n",
    "    def __init__(self, oov: bool):\n",
    "        self.oov = oov\n",
    "        self.id2word = [\"PAD\", \"EOS\", \"SOS\"]\n",
    "        self.word2id = {\"PAD\": Vocabulary.PAD, \"EOS\": Vocabulary.EOS, \"SOS\": Vocabulary.SOS}\n",
    "        if oov:# 指定OOV参数\n",
    "            self.word2id[\"__OOV__\"] = Vocabulary.OOVID\n",
    "            self.id2word.append(\"__OOV__\")\n",
    "\n",
    "    def __getitem__(self, word: str):#word：输入的单词\n",
    "        if self.oov:\n",
    "            return self.word2id.get(word, Vocabulary.OOVID)\n",
    "        return self.word2id[word]\n",
    "\n",
    "    def get(self, word: str, adding=True):\n",
    "        try:\n",
    "            return self.word2id[word]\n",
    "        except KeyError:\n",
    "            #add：添加词\n",
    "            #oov：当前词汇表不包含则返回oov\n",
    "            if adding:\n",
    "                wordid = len(self.id2word)\n",
    "                self.word2id[word] = wordid#添加一个新的词汇\n",
    "                self.id2word.append(word)\n",
    "                return wordid\n",
    "            if self.oov:\n",
    "                return Vocabulary.OOVID\n",
    "            raise\n",
    "\n",
    "    def __len__(self):#单词表有多少个单词\n",
    "        return len(self.id2word)\n",
    "\n",
    "    def getword(self, idx: int):#单个输出，只能搜有的\n",
    "        if idx < len(self):\n",
    "            return self.id2word[idx]\n",
    "        return None\n",
    "\n",
    "    def getwords(self, idx: List[int]):\n",
    "        return [self.getword(i) for i in idx]\n"
   ]
  },
  {
   "cell_type": "markdown",
   "metadata": {},
   "source": [
    "定义tradDataset类 & 填充两个两种语言数据库\n",
    "用于加载和处理翻译任务中的训练数据。将输入和目标语言的句子进行标准化与编码，并保存为张量。"
   ]
  },
  {
   "cell_type": "code",
   "execution_count": 7,
   "metadata": {},
   "outputs": [
    {
     "name": "stdout",
     "output_type": "stream",
     "text": [
      "cuda\n"
     ]
    }
   ],
   "source": [
    "class TradDataset():\n",
    "    def __init__(self,data,vocOrig,vocDest,adding=True,max_len=10):\n",
    "        \"\"\"\n",
    "        传入数据，数据用\\t分割，第一列为源语言，第二列为目标语言\n",
    "        \"\"\"\n",
    "        self.sentences =[]\n",
    "        for s in tqdm(data.split(\"\\n\")):#逐行输入\n",
    "            if len(s)<1:#跳过空行\n",
    "                continue\n",
    "            orig,dest=map(normalize,s.split(\"\\t\")[:2])\n",
    "            #:2应该是去掉了数据源\n",
    "            if len(orig)>max_len: #跳过过长\n",
    "                continue\n",
    "            self.sentences.append((\n",
    "                torch.tensor([vocOrig.get(o) for o in orig.split(\" \")]+[Vocabulary.EOS]),\n",
    "                torch.tensor([vocDest.get(o) for o in dest.split(\" \")]+[Vocabulary.EOS])\n",
    "                ))\n",
    "            #两个voc应该是Vocabulary的输入\n",
    "    def __len__(self):#源句和目标句组成的元组列表\n",
    "        return len(self.sentences) \n",
    "    def __getitem__(self,i): \n",
    "        return self.sentences[i]\n",
    "\n",
    "\n",
    "\n",
    "def collate_fn(batch):\n",
    "    orig,dest = zip(*batch)\n",
    "    o_len = torch.tensor([len(o) for o in orig])\n",
    "    d_len = torch.tensor([len(d) for d in dest])\n",
    "    #返回的值是末尾填充0的结果\n",
    "    #具体填充的之后的长度取决于单个数据集里面最大的那个\n",
    "    return pad_sequence(orig),o_len,pad_sequence(dest),d_len\n",
    "device = get_device()"
   ]
  },
  {
   "cell_type": "markdown",
   "metadata": {},
   "source": [
    "读取数据\n",
    "加载英语到法语的翻译数据集，将其分成训练集和测试集，  \n",
    "数据集转换为 PyTorch 的数据加载器 (DataLoader) 格式"
   ]
  },
  {
   "cell_type": "code",
   "execution_count": 8,
   "metadata": {},
   "outputs": [
    {
     "name": "stderr",
     "output_type": "stream",
     "text": [
      "100%|██████████| 136521/136521 [00:05<00:00, 24330.75it/s]\n",
      "100%|██████████| 34132/34132 [00:01<00:00, 22546.47it/s]\n"
     ]
    }
   ],
   "source": [
    "FILE = \"../data/en-fra.txt\"\n",
    "with open(FILE, encoding='utf-8') as f:\n",
    "    lines = f.readlines()\n",
    "\n",
    "\n",
    "lines = [lines[x] for x in torch.randperm(len(lines))]\n",
    "#先别打乱\n",
    "#将输入的数据集打乱，随机排序\n",
    "idxTrain = int(0.8*len(lines))\n",
    "#80%训练\n",
    "vocEng = Vocabulary(True)\n",
    "vocFra = Vocabulary(True)\n",
    "MAX_LEN=100\n",
    "BATCH_SIZE=100\n",
    "\n",
    "datatrain = TradDataset(\"\".join(lines[:idxTrain]),vocEng,vocFra,max_len=MAX_LEN)\n",
    "datatest = TradDataset(\"\".join(lines[idxTrain:]),vocEng,vocFra,max_len=MAX_LEN)\n",
    "\n",
    "train_loader = DataLoader(datatrain, collate_fn=collate_fn, batch_size=BATCH_SIZE, shuffle=True)\n",
    "test_loader = DataLoader(datatest, collate_fn=collate_fn, batch_size=BATCH_SIZE, shuffle=True)"
   ]
  },
  {
   "cell_type": "markdown",
   "metadata": {},
   "source": [
    "打印一些数据集尝尝咸淡"
   ]
  },
  {
   "cell_type": "code",
   "execution_count": 15,
   "metadata": {},
   "outputs": [
    {
     "name": "stderr",
     "output_type": "stream",
     "text": [
      "100%|██████████| 7/7 [00:00<?, ?it/s]"
     ]
    },
    {
     "name": "stdout",
     "output_type": "stream",
     "text": [
      "len loader 2\n",
      "1ere element\n",
      "<class 'tuple'>\n",
      "4\n",
      "2ere element\n",
      "<class 'tuple'>\n",
      "4\n",
      "tensor 1: torch.Size([7, 3])\n",
      "['we', 'have', 'faith', 'in', 'tom', 'EOS', 'PAD']\n",
      "['avons', 'table', 'foi', 'en', 'tom', 'EOS', 'PAD']\n",
      "\n",
      "\n",
      "['we', 're', 'not', 'fit', 'EOS', 'PAD', 'PAD']\n",
      "['avons', 'forme', 'j', 'ai', 'EOS', 'PAD', 'PAD']\n",
      "\n",
      "\n",
      "['i', 'looked', 'all', 'over', 'for', 'tom', 'EOS']\n",
      "['cherche', 'partout', 'je', 'sais', 'vivre', 'tom', 'EOS']\n",
      "\n",
      "\n",
      "\n",
      "\n",
      "tensor 2 torch.Size([3])\n",
      "['studying', 's', 'we']\n",
      "['nous', 'etudie', 'avons']\n",
      "\n",
      "\n",
      "tensor 3: torch.Size([7, 3])\n",
      "['studying', 'we', 'faith', 'in', 'tom', 'EOS', 'PAD']\n",
      "['nous', 'avons', 'foi', 'en', 'tom', 'EOS', 'PAD']\n",
      "\n",
      "\n",
      "['studying', 'don', 'had', 'put', 'in', 're', 'EOS']\n",
      "['nous', 'ne', 'sommes', 'pas', 'en', 'forme', 'EOS']\n",
      "\n",
      "\n",
      "['not', 'fit', 'i', 'tom', 'looked', 'EOS', 'PAD']\n",
      "['j', 'ai', 'cherche', 'tom', 'partout', 'EOS', 'PAD']\n",
      "\n",
      "\n",
      "\n",
      "\n",
      "tensor 4 torch.Size([3])\n",
      "['studying', 'we', 'studying']\n",
      "['nous', 'avons', 'nous']\n"
     ]
    },
    {
     "name": "stderr",
     "output_type": "stream",
     "text": [
      "\n"
     ]
    }
   ],
   "source": [
    "# print(lines[:10])\n",
    "# print(datatrain[0])\n",
    "# print(vocEng.getwords([4, 5, 6, 7, 8, 9, 1]))\n",
    "# print(vocFra.getwords([4, 5, 6, 7, 8, 9,10, 1]))\n",
    "datatrain_mini_on_shuffle = TradDataset(\"\".join(lines[:6]),vocEng,vocFra,max_len=MAX_LEN)\n",
    "train_loader_no_shuffle = DataLoader(datatrain_mini_on_shuffle, collate_fn=collate_fn, batch_size=3,shuffle=False)\n",
    "#batch_size for what, the x_tuple didnt change at all\n",
    "print('len loader',len(train_loader_no_shuffle)) #n/2;lines[:n]\n",
    "for i,x_tuple in enumerate(train_loader_no_shuffle):#tuples in it ,each tuple has 4 tensors\n",
    "    print(f'{i+1}ere element')\n",
    "    print(type(x_tuple))\n",
    "    print(len(x_tuple))\n",
    "\n",
    "print('tensor 1:',x_tuple[0].size())#total eng sentence \n",
    "for i in range(x_tuple[0].size()[1]):  #lines 的长度决定了有多少列，也就是下方每个循环能跑多少\n",
    "    print(vocEng.getwords(x_tuple[0][:,i].tolist()))\n",
    "    print(vocFra.getwords(x_tuple[0][:,i].tolist()))\n",
    "    print('\\n')\n",
    "print('\\n')\n",
    "print('tensor 2',x_tuple[1].size())\n",
    "print(vocEng.getwords(x_tuple[1].tolist()))\n",
    "print(vocFra.getwords(x_tuple[1].tolist()))\n",
    "print('\\n')\n",
    "print('tensor 3:',x_tuple[2].size())#total fr sentence \n",
    "for i in range(x_tuple[2].size()[1]):\n",
    "    print(vocEng.getwords(x_tuple[2][:,i].tolist()))\n",
    "    print(vocFra.getwords(x_tuple[2][:,i].tolist()))\n",
    "    print('\\n')\n",
    "print('\\n')\n",
    "print('tensor 4',x_tuple[3].size())\n",
    "print(vocEng.getwords(x_tuple[3].tolist()))\n",
    "print(vocFra.getwords(x_tuple[3].tolist()))\n",
    "\n"
   ]
  },
  {
   "cell_type": "markdown",
   "metadata": {},
   "source": [
    "## 训练翻译器"
   ]
  },
  {
   "cell_type": "markdown",
   "metadata": {},
   "source": [
    "编码解码器"
   ]
  },
  {
   "cell_type": "code",
   "execution_count": 11,
   "metadata": {},
   "outputs": [],
   "source": [
    "class Encoder(nn.Module):\n",
    "    \"\"\"\n",
    "    inputsize要注意是单词表的长度+1\n",
    "    forward 的输出是所有阶段的隐藏状态，\n",
    "    隐藏状态尺寸：（batch，lengths,hidden_size）\n",
    "    \"\"\"\n",
    "    def __init__(self, input_size, embedding_size, hidden_size):\n",
    "        super(Encoder, self).__init__()\n",
    "        self.embedding = nn.Embedding(input_size, embedding_size)\n",
    "        self.gru = nn.GRU(embedding_size, hidden_size, batch_first=True)\n",
    "        \n",
    "\n",
    "    def forward(self, x, lengths):\n",
    "        embedded = self.embedding(x)\n",
    "        packed_input = nn.utils.rnn.pack_padded_sequence(embedded, lengths, batch_first=True, enforce_sorted=False)\n",
    "        _, hidden = self.gru(packed_input)\n",
    "        return hidden\n",
    "\n",
    "class Decoder(nn.Module):\n",
    "    \"\"\"\n",
    "    解码器的输入=目标语言已经生成的序列+编码器生成的hidden\n",
    "    \"\"\"\n",
    "    def __init__(self, output_size, embedding_size, hidden_size):\n",
    "        super(Decoder, self).__init__()\n",
    "        self.embedding = nn.Embedding(output_size, embedding_size)\n",
    "        self.gru = nn.GRU(embedding_size, hidden_size, batch_first=True)\n",
    "        self.fc = nn.Linear(hidden_size, output_size)\n",
    "\n",
    "    def forward(self, input, hidden):\n",
    "        \"\"\"hidden from encoder\"\"\"\n",
    "        # input: [batch_size, 1] (当前时间步的单词，通常是单词索引)\n",
    "        embedded = self.embedding(input)\n",
    "        # 通过 GRU 进行解码，使用当前时间步的嵌入和前一个时间步的隐状态\n",
    "        output, hidden = self.gru(embedded, hidden)\n",
    "        \n",
    "        # # 输出预测值 (用全连接层将 GRU 的输出转换为词汇表大小的向量)\n",
    "        prediction = self.fc(output)\n",
    "        return prediction, hidden\n"
   ]
  },
  {
   "cell_type": "markdown",
   "metadata": {},
   "source": [
    "训练环节"
   ]
  },
  {
   "cell_type": "code",
   "execution_count": 16,
   "metadata": {},
   "outputs": [],
   "source": [
    "import random\n",
    "\n",
    "def train(encoder, decoder, dataloader, encoder_optimizer, decoder_optimizer, criterion, teacher_forcing_ratio=0.5):\n",
    "    encoder.train()\n",
    "    decoder.train()\n",
    "    \n",
    "    for src, src_len, tgt, tgt_len in dataloader:\n",
    "        # Zero gradients\n",
    "        encoder_optimizer.zero_grad()\n",
    "        decoder_optimizer.zero_grad()\n",
    "        \n",
    "        # Forward pass through encoder\n",
    "        hidden = encoder(src, src_len)\n",
    "        \n",
    "        # Use the first token as input to decoder\n",
    "        input = torch.tensor([[Vocabulary.SOS]], device=hidden.device)\n",
    "        loss = 0\n",
    "        teacher_forcing = random.random() < teacher_forcing_ratio\n",
    "        \n",
    "        if teacher_forcing:\n",
    "            # Use teacher forcing\n",
    "            for t in range(tgt.size(1)):\n",
    "                output, hidden = decoder(input, hidden)\n",
    "                loss += criterion(output, tgt[:, t])\n",
    "                input = tgt[:, t].unsqueeze(1)\n",
    "        else:\n",
    "            # Use the decoder's own prediction\n",
    "            for t in range(tgt.size(1)):\n",
    "                output, hidden = decoder(input, hidden)\n",
    "                loss += criterion(output, tgt[:, t])\n",
    "                input = output.argmax(1).unsqueeze(1)\n",
    "        \n",
    "        # Backpropagate and update parameters\n",
    "        loss.backward()\n",
    "        encoder_optimizer.step()\n",
    "        decoder_optimizer.step()\n",
    "\n"
   ]
  },
  {
   "cell_type": "code",
   "execution_count": null,
   "metadata": {},
   "outputs": [],
   "source": []
  }
 ],
 "metadata": {
  "kernelspec": {
   "display_name": "Python 3",
   "language": "python",
   "name": "python3"
  },
  "language_info": {
   "codemirror_mode": {
    "name": "ipython",
    "version": 3
   },
   "file_extension": ".py",
   "mimetype": "text/x-python",
   "name": "python",
   "nbconvert_exporter": "python",
   "pygments_lexer": "ipython3",
   "version": "3.11.9"
  }
 },
 "nbformat": 4,
 "nbformat_minor": 2
}
